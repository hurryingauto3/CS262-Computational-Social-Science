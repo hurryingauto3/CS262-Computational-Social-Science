{
 "cells": [
  {
   "cell_type": "code",
   "execution_count": 12,
   "metadata": {},
   "outputs": [],
   "source": [
    "import pandas as pd\n",
    "import numpy as np \n",
    "import matplotlib.pyplot as plt\n",
    "from sklearn import linear_model\n",
    "import statsmodels.api as sm"
   ]
  },
  {
   "cell_type": "code",
   "execution_count": 13,
   "metadata": {},
   "outputs": [
    {
     "data": {
      "text/html": [
       "<div>\n",
       "<style scoped>\n",
       "    .dataframe tbody tr th:only-of-type {\n",
       "        vertical-align: middle;\n",
       "    }\n",
       "\n",
       "    .dataframe tbody tr th {\n",
       "        vertical-align: top;\n",
       "    }\n",
       "\n",
       "    .dataframe thead th {\n",
       "        text-align: right;\n",
       "    }\n",
       "</style>\n",
       "<table border=\"1\" class=\"dataframe\">\n",
       "  <thead>\n",
       "    <tr style=\"text-align: right;\">\n",
       "      <th></th>\n",
       "      <th>run_number</th>\n",
       "      <th>prob_random</th>\n",
       "      <th>Difficulty</th>\n",
       "      <th>prob-reproduce</th>\n",
       "      <th>num-agents</th>\n",
       "      <th>prob_static</th>\n",
       "      <th>final_food_dist</th>\n",
       "      <th>min_food_dist</th>\n",
       "      <th>max_food_dist</th>\n",
       "      <th>mean_food_dist</th>\n",
       "      <th>steps</th>\n",
       "    </tr>\n",
       "  </thead>\n",
       "  <tbody>\n",
       "    <tr>\n",
       "      <th>0</th>\n",
       "      <td>1</td>\n",
       "      <td>0.0</td>\n",
       "      <td>Easy</td>\n",
       "      <td>0.0</td>\n",
       "      <td>1000</td>\n",
       "      <td>0.0</td>\n",
       "      <td>2.648812</td>\n",
       "      <td>2.645598</td>\n",
       "      <td>5.202272</td>\n",
       "      <td>3.083614</td>\n",
       "      <td>50</td>\n",
       "    </tr>\n",
       "    <tr>\n",
       "      <th>1</th>\n",
       "      <td>2</td>\n",
       "      <td>0.0</td>\n",
       "      <td>Easy</td>\n",
       "      <td>0.0</td>\n",
       "      <td>1000</td>\n",
       "      <td>0.1</td>\n",
       "      <td>3.151663</td>\n",
       "      <td>0.000000</td>\n",
       "      <td>5.089360</td>\n",
       "      <td>3.410997</td>\n",
       "      <td>50</td>\n",
       "    </tr>\n",
       "    <tr>\n",
       "      <th>2</th>\n",
       "      <td>3</td>\n",
       "      <td>0.0</td>\n",
       "      <td>Easy</td>\n",
       "      <td>0.0</td>\n",
       "      <td>1000</td>\n",
       "      <td>0.2</td>\n",
       "      <td>2.790092</td>\n",
       "      <td>0.000000</td>\n",
       "      <td>5.149026</td>\n",
       "      <td>3.231751</td>\n",
       "      <td>50</td>\n",
       "    </tr>\n",
       "    <tr>\n",
       "      <th>3</th>\n",
       "      <td>4</td>\n",
       "      <td>0.0</td>\n",
       "      <td>Easy</td>\n",
       "      <td>0.0</td>\n",
       "      <td>1000</td>\n",
       "      <td>0.3</td>\n",
       "      <td>2.170172</td>\n",
       "      <td>0.000000</td>\n",
       "      <td>4.865522</td>\n",
       "      <td>2.843332</td>\n",
       "      <td>50</td>\n",
       "    </tr>\n",
       "    <tr>\n",
       "      <th>4</th>\n",
       "      <td>5</td>\n",
       "      <td>0.0</td>\n",
       "      <td>Easy</td>\n",
       "      <td>0.0</td>\n",
       "      <td>1000</td>\n",
       "      <td>0.4</td>\n",
       "      <td>2.756521</td>\n",
       "      <td>2.756521</td>\n",
       "      <td>4.997371</td>\n",
       "      <td>3.323032</td>\n",
       "      <td>50</td>\n",
       "    </tr>\n",
       "  </tbody>\n",
       "</table>\n",
       "</div>"
      ],
      "text/plain": [
       "   run_number  prob_random Difficulty  prob-reproduce  num-agents  \\\n",
       "0           1          0.0       Easy             0.0        1000   \n",
       "1           2          0.0       Easy             0.0        1000   \n",
       "2           3          0.0       Easy             0.0        1000   \n",
       "3           4          0.0       Easy             0.0        1000   \n",
       "4           5          0.0       Easy             0.0        1000   \n",
       "\n",
       "   prob_static  final_food_dist  min_food_dist  max_food_dist  mean_food_dist  \\\n",
       "0          0.0         2.648812       2.645598       5.202272        3.083614   \n",
       "1          0.1         3.151663       0.000000       5.089360        3.410997   \n",
       "2          0.2         2.790092       0.000000       5.149026        3.231751   \n",
       "3          0.3         2.170172       0.000000       4.865522        2.843332   \n",
       "4          0.4         2.756521       2.756521       4.997371        3.323032   \n",
       "\n",
       "   steps  \n",
       "0     50  \n",
       "1     50  \n",
       "2     50  \n",
       "3     50  \n",
       "4     50  "
      ]
     },
     "execution_count": 13,
     "metadata": {},
     "output_type": "execute_result"
    }
   ],
   "source": [
    "df = pd.read_excel(\"SlimeMoldData.xlsx\")\n",
    "df.head()\n"
   ]
  },
  {
   "cell_type": "code",
   "execution_count": 14,
   "metadata": {},
   "outputs": [
    {
     "data": {
      "image/png": "[encoded data removed]",
      "text/plain": [
       "<Figure size 432x288 with 1 Axes>"
      ]
     },
     "metadata": {
      "needs_background": "light"
     },
     "output_type": "display_data"
    }
   ],
   "source": [
    "plt.scatter(df['prob_random'], df['final_food_dist'], color='green')\n",
    "plt.title('Random Movement Vs Final Food Distance', fontsize=14)\n",
    "plt.xlabel('Random Movement', fontsize=14)\n",
    "plt.ylabel('Final Food Distance', fontsize=14)\n",
    "plt.grid(True)\n",
    "plt.show()"
   ]
  },
  {
   "cell_type": "code",
   "execution_count": 16,
   "metadata": {},
   "outputs": [
    {
     "data": {
      "image/png": "[encoded data removed]",
      "text/plain": [
       "<Figure size 432x288 with 1 Axes>"
      ]
     },
     "metadata": {
      "needs_background": "light"
     },
     "output_type": "display_data"
    }
   ],
   "source": [
    "plt.scatter(df['prob-reproduce'], df['final_food_dist'], color='green')\n",
    "plt.title('Random Reproduction Vs Final Food Distance', fontsize=14)\n",
    "plt.xlabel('Random Reproduction', fontsize=14)\n",
    "plt.ylabel('Final Food Distance', fontsize=14)\n",
    "plt.grid(True)\n",
    "plt.show()"
   ]
  },
  {
   "cell_type": "code",
   "execution_count": 17,
   "metadata": {},
   "outputs": [
    {
     "data": {
      "image/png": "[encoded data removed]",
      "text/plain": [
       "<Figure size 432x288 with 1 Axes>"
      ]
     },
     "metadata": {
      "needs_background": "light"
     },
     "output_type": "display_data"
    }
   ],
   "source": [
    "plt.scatter(df['prob_static'], df['final_food_dist'], color='green')\n",
    "plt.title('Probability Static Vs Final Food Distance', fontsize=14)\n",
    "plt.xlabel('Random Static', fontsize=14)\n",
    "plt.ylabel('Final Food Distance', fontsize=14)\n",
    "plt.grid(True)\n",
    "plt.show()"
   ]
  },
  {
   "cell_type": "code",
   "execution_count": 18,
   "metadata": {},
   "outputs": [
    {
     "name": "stdout",
     "output_type": "stream",
     "text": [
      "Intercept: \n",
      " 1.8157215445743937\n",
      "Coefficients: \n",
      " [ 2.49673381 -1.75968457  1.20861158]\n",
      "[1.81572154]\n",
      "                            OLS Regression Results                            \n",
      "==============================================================================\n",
      "Dep. Variable:        final_food_dist   R-squared:                       0.827\n",
      "Model:                            OLS   Adj. R-squared:                  0.827\n",
      "Method:                 Least Squares   F-statistic:                     1465.\n",
      "Date:                Tue, 08 Dec 2020   Prob (F-statistic):               0.00\n",
      "Time:                        07:21:18   Log-Likelihood:                -388.13\n",
      "No. Observations:                 920   AIC:                             784.3\n",
      "Df Residuals:                     916   BIC:                             803.6\n",
      "Df Model:                           3                                         \n",
      "Covariance Type:            nonrobust                                         \n",
      "==================================================================================\n",
      "                     coef    std err          t      P>|t|      [0.025      0.975]\n",
      "----------------------------------------------------------------------------------\n",
      "const              1.8157      0.033     55.004      0.000       1.751       1.881\n",
      "prob_random        2.4967      0.045     55.795      0.000       2.409       2.585\n",
      "prob-reproduce    -1.7597      0.075    -23.503      0.000      -1.907      -1.613\n",
      "prob_static        1.2086      0.045     27.009      0.000       1.121       1.296\n",
      "==============================================================================\n",
      "Omnibus:                       71.089   Durbin-Watson:                   0.837\n",
      "Prob(Omnibus):                  0.000   Jarque-Bera (JB):               86.449\n",
      "Skew:                           0.705   Prob(JB):                     1.69e-19\n",
      "Kurtosis:                       3.516   Cond. No.                         7.53\n",
      "==============================================================================\n",
      "\n",
      "Warnings:\n",
      "[1] Standard Errors assume that the covariance matrix of the errors is correctly specified.\n"
     ]
    }
   ],
   "source": [
    "X = df[['prob_random','prob-reproduce', \"prob_static\", ]] #3 variables for multiple regression. \n",
    "Y = df['final_food_dist']\n",
    "\n",
    "# with sklearn\n",
    "regr = linear_model.LinearRegression()\n",
    "regr.fit(X, Y)\n",
    "\n",
    "print('Intercept: \\n', regr.intercept_)\n",
    "print('Coefficients: \\n', regr.coef_)\n",
    "\n",
    "# for i in range(500)\n",
    "New_Prob_Random = 0\n",
    "New_Prob_Reproduce = 0\n",
    "New_Prob_Static = 0\n",
    "\n",
    "print(regr.predict([[New_Prob_Random,New_Prob_Reproduce,New_Prob_Static]]))\n",
    "\n",
    "\n",
    "# with statsmodels\n",
    "X = sm.add_constant(X) # adding a constant\n",
    " \n",
    "model = sm.OLS(Y, X).fit()\n",
    "predictions = model.predict(X) \n",
    " \n",
    "print_model = model.summary()\n",
    "print(print_model)"
   ]
  },
  {
   "cell_type": "code",
   "execution_count": null,
   "metadata": {},
   "outputs": [],
   "source": []
  }
 ],
 "metadata": {
  "kernelspec": {
   "display_name": "Python 3",
   "language": "python",
   "name": "python3"
  },
  "language_info": {
   "codemirror_mode": {
    "name": "ipython",
    "version": 3
   },
   "file_extension": ".py",
   "mimetype": "text/x-python",
   "name": "python",
   "nbconvert_exporter": "python",
   "pygments_lexer": "ipython3",
   "version": "3.8.3"
  }
 },
 "nbformat": 4,
 "nbformat_minor": 4
}
